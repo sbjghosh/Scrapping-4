{
 "cells": [
  {
   "cell_type": "code",
   "execution_count": 1,
   "metadata": {},
   "outputs": [],
   "source": [
    "import selenium\n",
    "import pandas as pd\n",
    "import numpy as np\n",
    "from selenium import webdriver\n",
    "from selenium.webdriver.chrome.options import Options\n",
    "from selenium.common.exceptions import NoSuchElementException\n",
    "from selenium.webdriver.support.ui import WebDriverWait\n",
    "from selenium.common.exceptions import StaleElementReferenceException\n",
    "from selenium.webdriver.support import expected_conditions as EC\n",
    "from selenium.webdriver.common.by import By"
   ]
  },
  {
   "cell_type": "code",
   "execution_count": 2,
   "metadata": {
    "scrolled": false
   },
   "outputs": [
    {
     "name": "stderr",
     "output_type": "stream",
     "text": [
      "C:\\ProgramData\\Anaconda3\\lib\\site-packages\\ipykernel_launcher.py:3: DeprecationWarning: use options instead of chrome_options\n",
      "  This is separate from the ipykernel package so we can avoid doing imports until\n"
     ]
    }
   ],
   "source": [
    "c_options=Options()\n",
    "c_options.add_argument('--incognito')\n",
    "driver=webdriver.Chrome(\"chromedriver.exe\",chrome_options=c_options)"
   ]
  },
  {
   "cell_type": "markdown",
   "metadata": {},
   "source": [
    "Q 1"
   ]
  },
  {
   "cell_type": "code",
   "execution_count": 376,
   "metadata": {},
   "outputs": [],
   "source": [
    "driver.get('https://en.wikipedia.org/wiki/List_of_most-viewed_YouTube_videos/')"
   ]
  },
  {
   "cell_type": "markdown",
   "metadata": {},
   "source": [
    "Wikipedia says: \"Wikipedia does not have an article with this exact name\""
   ]
  },
  {
   "cell_type": "markdown",
   "metadata": {},
   "source": [
    "Q 2"
   ]
  },
  {
   "cell_type": "code",
   "execution_count": 3,
   "metadata": {},
   "outputs": [],
   "source": [
    "driver.get('https://www.bcci.tv/')"
   ]
  },
  {
   "cell_type": "code",
   "execution_count": 4,
   "metadata": {},
   "outputs": [],
   "source": [
    "from selenium.webdriver.common.action_chains import ActionChains"
   ]
  },
  {
   "cell_type": "code",
   "execution_count": 8,
   "metadata": {},
   "outputs": [],
   "source": [
    "hover = ActionChains(driver).move_to_element(driver.find_element_by_xpath('//li[@class=\"navigation__item\"]'))\n",
    "hover.perform()"
   ]
  },
  {
   "cell_type": "code",
   "execution_count": 9,
   "metadata": {},
   "outputs": [],
   "source": [
    "driver.get(driver.find_element_by_xpath('//a[@class=\"navigation__link navigation__link--in-drop-down\"]').get_attribute('href'))"
   ]
  },
  {
   "cell_type": "code",
   "execution_count": 21,
   "metadata": {},
   "outputs": [],
   "source": [
    "title=[i.text for i in driver.find_elements_by_xpath('//span[@class=\"u-unskewed-text fixture__format\"]')]\n",
    "\n",
    "series=[i.text for i in driver.find_elements_by_xpath('//span[@class=\"u-unskewed-text fixture__tournament-label u-truncated\"]')]\n",
    "\n",
    "place=[i.text for i in driver.find_elements_by_xpath('//p[@class=\"fixture__additional-info\"]/span')]\n",
    "\n",
    "date_n_time=[i.text for i in driver.find_elements_by_xpath('//div[@class=\"fixture__datetime desktop-only\"]')]"
   ]
  },
  {
   "cell_type": "code",
   "execution_count": 22,
   "metadata": {},
   "outputs": [],
   "source": [
    "date_n_time=[i.replace('\\n',' ') for i in date_n_time]"
   ]
  },
  {
   "cell_type": "code",
   "execution_count": 24,
   "metadata": {
    "scrolled": true
   },
   "outputs": [
    {
     "data": {
      "text/html": [
       "<div>\n",
       "<style scoped>\n",
       "    .dataframe tbody tr th:only-of-type {\n",
       "        vertical-align: middle;\n",
       "    }\n",
       "\n",
       "    .dataframe tbody tr th {\n",
       "        vertical-align: top;\n",
       "    }\n",
       "\n",
       "    .dataframe thead th {\n",
       "        text-align: right;\n",
       "    }\n",
       "</style>\n",
       "<table border=\"1\" class=\"dataframe\">\n",
       "  <thead>\n",
       "    <tr style=\"text-align: right;\">\n",
       "      <th></th>\n",
       "      <th>Title</th>\n",
       "      <th>Series</th>\n",
       "      <th>Place</th>\n",
       "      <th>Date and time</th>\n",
       "    </tr>\n",
       "  </thead>\n",
       "  <tbody>\n",
       "    <tr>\n",
       "      <th>0</th>\n",
       "      <td>T20I</td>\n",
       "      <td>INDIA V ENGLAND 2021</td>\n",
       "      <td>Narendra Modi Stadium, Ahmedabad</td>\n",
       "      <td>Friday 12 MARCH 19:00 IST</td>\n",
       "    </tr>\n",
       "    <tr>\n",
       "      <th>1</th>\n",
       "      <td>T20I</td>\n",
       "      <td>INDIA V ENGLAND 2021</td>\n",
       "      <td>Narendra Modi Stadium, Ahmedabad</td>\n",
       "      <td>Sunday 14 MARCH 19:00 IST</td>\n",
       "    </tr>\n",
       "    <tr>\n",
       "      <th>2</th>\n",
       "      <td>T20I</td>\n",
       "      <td>INDIA V ENGLAND 2021</td>\n",
       "      <td>Narendra Modi Stadium, Ahmedabad</td>\n",
       "      <td>Tuesday 16 MARCH 19:00 IST</td>\n",
       "    </tr>\n",
       "    <tr>\n",
       "      <th>3</th>\n",
       "      <td>T20I</td>\n",
       "      <td>INDIA V ENGLAND 2021</td>\n",
       "      <td>Narendra Modi Stadium, Ahmedabad</td>\n",
       "      <td>Thursday 18 MARCH 19:00 IST</td>\n",
       "    </tr>\n",
       "    <tr>\n",
       "      <th>4</th>\n",
       "      <td>T20I</td>\n",
       "      <td>INDIA V ENGLAND 2021</td>\n",
       "      <td>Narendra Modi Stadium, Ahmedabad</td>\n",
       "      <td>Saturday 20 MARCH 19:00 IST</td>\n",
       "    </tr>\n",
       "  </tbody>\n",
       "</table>\n",
       "</div>"
      ],
      "text/plain": [
       "  Title                Series                             Place  \\\n",
       "0  T20I  INDIA V ENGLAND 2021  Narendra Modi Stadium, Ahmedabad   \n",
       "1  T20I  INDIA V ENGLAND 2021  Narendra Modi Stadium, Ahmedabad   \n",
       "2  T20I  INDIA V ENGLAND 2021  Narendra Modi Stadium, Ahmedabad   \n",
       "3  T20I  INDIA V ENGLAND 2021  Narendra Modi Stadium, Ahmedabad   \n",
       "4  T20I  INDIA V ENGLAND 2021  Narendra Modi Stadium, Ahmedabad   \n",
       "\n",
       "                 Date and time  \n",
       "0    Friday 12 MARCH 19:00 IST  \n",
       "1    Sunday 14 MARCH 19:00 IST  \n",
       "2   Tuesday 16 MARCH 19:00 IST  \n",
       "3  Thursday 18 MARCH 19:00 IST  \n",
       "4  Saturday 20 MARCH 19:00 IST  "
      ]
     },
     "execution_count": 24,
     "metadata": {},
     "output_type": "execute_result"
    }
   ],
   "source": [
    "data_bcci={\n",
    "    'Title':title,\n",
    "    'Series':series,\n",
    "    'Place':place,\n",
    "    'Date and time':date_n_time}\n",
    "data=pd.DataFrame(data_bcci)\n",
    "data.to_csv('Data_BCCI.csv')\n",
    "data.head()"
   ]
  },
  {
   "cell_type": "markdown",
   "metadata": {},
   "source": [
    "Q 3"
   ]
  },
  {
   "cell_type": "code",
   "execution_count": 30,
   "metadata": {},
   "outputs": [],
   "source": [
    "driver.get('https://www.guru99.com/')"
   ]
  },
  {
   "cell_type": "code",
   "execution_count": 34,
   "metadata": {},
   "outputs": [],
   "source": [
    "driver.get(driver.find_elements_by_xpath('//li[@class=\"fa fa-chevron-circle-right\"]/a')[2].get_attribute('href'))"
   ]
  },
  {
   "cell_type": "code",
   "execution_count": 49,
   "metadata": {},
   "outputs": [],
   "source": [
    "driver.get(driver.find_elements_by_xpath('//td[@class=\"responsivetable\"]/a')[68].get_attribute('href'))"
   ]
  },
  {
   "cell_type": "code",
   "execution_count": 51,
   "metadata": {},
   "outputs": [],
   "source": [
    "g=driver.find_element_by_xpath('//table[@class=\"table table-striped\"]').text"
   ]
  },
  {
   "cell_type": "code",
   "execution_count": 52,
   "metadata": {},
   "outputs": [],
   "source": [
    "gi=g.split('\\n')"
   ]
  },
  {
   "cell_type": "code",
   "execution_count": 54,
   "metadata": {},
   "outputs": [],
   "source": [
    "gi=gi[1:]"
   ]
  },
  {
   "cell_type": "code",
   "execution_count": 56,
   "metadata": {},
   "outputs": [],
   "source": [
    "exp=[i.split(\" \")[0] for i in gi]"
   ]
  },
  {
   "cell_type": "code",
   "execution_count": 60,
   "metadata": {},
   "outputs": [],
   "source": [
    "des=[i.split(\" \",1)[1] for i in gi]"
   ]
  },
  {
   "cell_type": "code",
   "execution_count": 62,
   "metadata": {
    "scrolled": true
   },
   "outputs": [
    {
     "data": {
      "text/html": [
       "<div>\n",
       "<style scoped>\n",
       "    .dataframe tbody tr th:only-of-type {\n",
       "        vertical-align: middle;\n",
       "    }\n",
       "\n",
       "    .dataframe tbody tr th {\n",
       "        vertical-align: top;\n",
       "    }\n",
       "\n",
       "    .dataframe thead th {\n",
       "        text-align: right;\n",
       "    }\n",
       "</style>\n",
       "<table border=\"1\" class=\"dataframe\">\n",
       "  <thead>\n",
       "    <tr style=\"text-align: right;\">\n",
       "      <th></th>\n",
       "      <th>Exception</th>\n",
       "      <th>Description</th>\n",
       "    </tr>\n",
       "  </thead>\n",
       "  <tbody>\n",
       "    <tr>\n",
       "      <th>0</th>\n",
       "      <td>ElementNotVisibleException</td>\n",
       "      <td>This type of Selenium exception occurs when an...</td>\n",
       "    </tr>\n",
       "    <tr>\n",
       "      <th>1</th>\n",
       "      <td>ElementNotSelectableException</td>\n",
       "      <td>This Selenium exception occurs when an element...</td>\n",
       "    </tr>\n",
       "    <tr>\n",
       "      <th>2</th>\n",
       "      <td>NoSuchElementException</td>\n",
       "      <td>This Exception occurs if an element could not ...</td>\n",
       "    </tr>\n",
       "    <tr>\n",
       "      <th>3</th>\n",
       "      <td>NoSuchFrameException</td>\n",
       "      <td>This Exception occurs if the frame target to b...</td>\n",
       "    </tr>\n",
       "    <tr>\n",
       "      <th>4</th>\n",
       "      <td>NoAlertPresentException</td>\n",
       "      <td>This Exception occurs when you switch to no pr...</td>\n",
       "    </tr>\n",
       "  </tbody>\n",
       "</table>\n",
       "</div>"
      ],
      "text/plain": [
       "                       Exception  \\\n",
       "0     ElementNotVisibleException   \n",
       "1  ElementNotSelectableException   \n",
       "2         NoSuchElementException   \n",
       "3           NoSuchFrameException   \n",
       "4        NoAlertPresentException   \n",
       "\n",
       "                                         Description  \n",
       "0  This type of Selenium exception occurs when an...  \n",
       "1  This Selenium exception occurs when an element...  \n",
       "2  This Exception occurs if an element could not ...  \n",
       "3  This Exception occurs if the frame target to b...  \n",
       "4  This Exception occurs when you switch to no pr...  "
      ]
     },
     "execution_count": 62,
     "metadata": {},
     "output_type": "execute_result"
    }
   ],
   "source": [
    "data_guru={\n",
    "    'Exception':exp,\n",
    "    'Description':des}\n",
    "data=pd.DataFrame(data_guru)\n",
    "data.to_csv('Data_guru.csv')\n",
    "data.head()"
   ]
  },
  {
   "cell_type": "markdown",
   "metadata": {},
   "source": [
    "Q 4"
   ]
  },
  {
   "cell_type": "code",
   "execution_count": 211,
   "metadata": {},
   "outputs": [],
   "source": [
    "driver.get('http://statisticstimes.com/')"
   ]
  },
  {
   "cell_type": "code",
   "execution_count": 95,
   "metadata": {},
   "outputs": [],
   "source": [
    "hover = ActionChains(driver).move_to_element(driver.find_elements_by_xpath('//button[@class=\"dropbtn\"]')[1])\n",
    "hover.perform()\n"
   ]
  },
  {
   "cell_type": "code",
   "execution_count": 96,
   "metadata": {},
   "outputs": [],
   "source": [
    "driver.get(driver.find_elements_by_xpath('//div[@class=\"dropdown-content\"]/a')[4].get_attribute('href'))"
   ]
  },
  {
   "cell_type": "code",
   "execution_count": 97,
   "metadata": {},
   "outputs": [],
   "source": [
    "lis=[i.get_attribute('href') for i in driver.find_elements_by_xpath('//ul[@style=\"list-style-type:none;margin-left:50px;\"]/li/a')]"
   ]
  },
  {
   "cell_type": "code",
   "execution_count": null,
   "metadata": {},
   "outputs": [],
   "source": [
    "state=[]\n",
    "rank=[]\n",
    "k=0\n",
    "gsdp_18_19=[]\n",
    "gsdp_17_18=[]\n",
    "for i in lis:\n",
    "    driver.get(i)\n",
    "    rank.append(k+1)\n",
    "    k=k+1\n",
    "    state.append(driver.find_element_by_xpath('//h1[@itemprop=\"about\"]').text.split(' ')[2:])\n",
    "    gsdp_18_19.append(driver.find_element_by_xpath('//table[@id=\"table_id\"]/tbody/tr[@class=\"odd\"]/td[@class=\"data1\"]').text)\n",
    "    gsdp_17_18.append(driver.find_element_by_xpath('//table[@id=\"table_id\"]/tbody/tr[@class=\"even\"]/td[@class=\"data1\"]').text)\n",
    "    "
   ]
  },
  {
   "cell_type": "markdown",
   "metadata": {},
   "source": [
    "Other than Delhi none of the state details is available"
   ]
  },
  {
   "cell_type": "markdown",
   "metadata": {},
   "source": [
    "Q 5"
   ]
  },
  {
   "cell_type": "code",
   "execution_count": 229,
   "metadata": {},
   "outputs": [],
   "source": [
    "driver.get(' https://github.com/')"
   ]
  },
  {
   "cell_type": "code",
   "execution_count": 230,
   "metadata": {},
   "outputs": [],
   "source": [
    "hover = driver.find_elements_by_xpath('//details[@class=\"HeaderMenu-details details-overlay details-reset width-full\"]')[1]\n",
    "hover.click()"
   ]
  },
  {
   "cell_type": "code",
   "execution_count": 231,
   "metadata": {},
   "outputs": [],
   "source": [
    "driver.get(driver.find_elements_by_xpath('//li[@class=\"edge-item-fix\"]/a')[13].get_attribute('href'))"
   ]
  },
  {
   "cell_type": "code",
   "execution_count": 232,
   "metadata": {},
   "outputs": [],
   "source": [
    "lis=[i.get_attribute('href') for i in driver.find_elements_by_xpath('//h1[@class=\"h3 lh-condensed\"]/a')]"
   ]
  },
  {
   "cell_type": "code",
   "execution_count": 233,
   "metadata": {},
   "outputs": [],
   "source": [
    "repo_title=[i.text for i in driver.find_elements_by_xpath('//h1[@class=\"h3 lh-condensed\"]/a')]\n",
    "repo_des=[]\n",
    "c_count=[]\n",
    "lang=[]\n",
    "for i in lis:\n",
    "    driver.get(i)\n",
    "    try:\n",
    "        c_count.append(driver.find_element_by_xpath(\"//*[contains(text(),'Contributor')]/span\").text)\n",
    "    except NoSuchElementException as e:\n",
    "        c_count.append('1')\n",
    "    try:\n",
    "        lang.append(driver.find_element_by_xpath(\"//*[contains(text(),'Language')]/following-sibling::ul\").text)\n",
    "    except NoSuchElementException as e:\n",
    "        lang.append('NA')\n",
    "\n",
    "    try:\n",
    "        repo_des.append(driver.find_element_by_xpath(\"//*[contains(text(),'About')]/following-sibling::p\").text)\n",
    "    except NoSuchElementException as e:\n",
    "        repo_des.append('NA')\n",
    "    "
   ]
  },
  {
   "cell_type": "code",
   "execution_count": 235,
   "metadata": {},
   "outputs": [],
   "source": [
    "lang=[i.replace('\\n',' ') for i in lang]"
   ]
  },
  {
   "cell_type": "code",
   "execution_count": 236,
   "metadata": {},
   "outputs": [
    {
     "data": {
      "text/html": [
       "<div>\n",
       "<style scoped>\n",
       "    .dataframe tbody tr th:only-of-type {\n",
       "        vertical-align: middle;\n",
       "    }\n",
       "\n",
       "    .dataframe tbody tr th {\n",
       "        vertical-align: top;\n",
       "    }\n",
       "\n",
       "    .dataframe thead th {\n",
       "        text-align: right;\n",
       "    }\n",
       "</style>\n",
       "<table border=\"1\" class=\"dataframe\">\n",
       "  <thead>\n",
       "    <tr style=\"text-align: right;\">\n",
       "      <th></th>\n",
       "      <th>Repository Title</th>\n",
       "      <th>Repository Description</th>\n",
       "      <th>Language</th>\n",
       "      <th>Contributor count</th>\n",
       "    </tr>\n",
       "  </thead>\n",
       "  <tbody>\n",
       "    <tr>\n",
       "      <th>0</th>\n",
       "      <td>dolthub / dolt</td>\n",
       "      <td>Dolt – It's Git for Data</td>\n",
       "      <td>Go 95.6% Shell 4.3% Python 0.1% Lua 0.0% C# 0....</td>\n",
       "      <td>21</td>\n",
       "    </tr>\n",
       "    <tr>\n",
       "      <th>1</th>\n",
       "      <td>openai / CLIP</td>\n",
       "      <td>Contrastive Language-Image Pretraining</td>\n",
       "      <td>Jupyter Notebook 99.1% Python 0.9%</td>\n",
       "      <td>3</td>\n",
       "    </tr>\n",
       "    <tr>\n",
       "      <th>2</th>\n",
       "      <td>google / googletest</td>\n",
       "      <td>Googletest - Google Testing and Mocking Framework</td>\n",
       "      <td>C++ 84.7% Python 12.3% CMake 1.0% C 0.9% Starl...</td>\n",
       "      <td>316</td>\n",
       "    </tr>\n",
       "    <tr>\n",
       "      <th>3</th>\n",
       "      <td>flutter / flutter</td>\n",
       "      <td>We think Flutter will help you create beautifu...</td>\n",
       "      <td>Dart 99.2% Objective-C 0.2% Java 0.2% C++ 0.1%...</td>\n",
       "      <td>815</td>\n",
       "    </tr>\n",
       "    <tr>\n",
       "      <th>4</th>\n",
       "      <td>git / git</td>\n",
       "      <td>Git Source Code Mirror - This is a publish-onl...</td>\n",
       "      <td>C 48.5% Shell 36.6% Perl 6.3% Tcl 4.6% Python ...</td>\n",
       "      <td>1,446</td>\n",
       "    </tr>\n",
       "  </tbody>\n",
       "</table>\n",
       "</div>"
      ],
      "text/plain": [
       "      Repository Title                             Repository Description  \\\n",
       "0       dolthub / dolt                           Dolt – It's Git for Data   \n",
       "1        openai / CLIP             Contrastive Language-Image Pretraining   \n",
       "2  google / googletest  Googletest - Google Testing and Mocking Framework   \n",
       "3    flutter / flutter  We think Flutter will help you create beautifu...   \n",
       "4            git / git  Git Source Code Mirror - This is a publish-onl...   \n",
       "\n",
       "                                            Language Contributor count  \n",
       "0  Go 95.6% Shell 4.3% Python 0.1% Lua 0.0% C# 0....                21  \n",
       "1                 Jupyter Notebook 99.1% Python 0.9%                 3  \n",
       "2  C++ 84.7% Python 12.3% CMake 1.0% C 0.9% Starl...               316  \n",
       "3  Dart 99.2% Objective-C 0.2% Java 0.2% C++ 0.1%...               815  \n",
       "4  C 48.5% Shell 36.6% Perl 6.3% Tcl 4.6% Python ...             1,446  "
      ]
     },
     "execution_count": 236,
     "metadata": {},
     "output_type": "execute_result"
    }
   ],
   "source": [
    "data_git={\n",
    "    'Repository Title':repo_title,\n",
    "    'Repository Description':repo_des,\n",
    "    'Language':lang,\n",
    "    'Contributor count':c_count}\n",
    "data=pd.DataFrame(data_git)\n",
    "data.to_csv('Data_Git.csv')\n",
    "data.head()"
   ]
  },
  {
   "cell_type": "markdown",
   "metadata": {},
   "source": [
    "Q 6"
   ]
  },
  {
   "cell_type": "code",
   "execution_count": 237,
   "metadata": {},
   "outputs": [],
   "source": [
    "driver.get('https://www.billiboard.com/')"
   ]
  },
  {
   "cell_type": "markdown",
   "metadata": {},
   "source": [
    "The question assumes this site to be songs related but the driver got a page related to carrom boards."
   ]
  },
  {
   "cell_type": "markdown",
   "metadata": {},
   "source": [
    "Q 7"
   ]
  },
  {
   "cell_type": "code",
   "execution_count": 254,
   "metadata": {},
   "outputs": [],
   "source": [
    "driver.get(' https://www.naukri.com/')"
   ]
  },
  {
   "cell_type": "code",
   "execution_count": 255,
   "metadata": {},
   "outputs": [],
   "source": [
    "driver.get(driver.find_element_by_xpath('//a[@title=\"Search Recruiters\"]').get_attribute('href'))"
   ]
  },
  {
   "cell_type": "code",
   "execution_count": 256,
   "metadata": {},
   "outputs": [],
   "source": [
    "search_job=driver.find_element_by_xpath('//input[@class=\"sugInp\"]')\n",
    "search_job.send_keys(\"Data Science\")\n",
    "search_btn=driver.find_element_by_xpath('//button[@class=\"fl qsbSrch blueBtn\"]')\n",
    "search_btn.click()"
   ]
  },
  {
   "cell_type": "code",
   "execution_count": 265,
   "metadata": {},
   "outputs": [],
   "source": [
    "name=[i.text for i in driver.find_elements_by_xpath('//span[@class=\"fl ellipsis\"]')]"
   ]
  },
  {
   "cell_type": "code",
   "execution_count": 267,
   "metadata": {},
   "outputs": [],
   "source": [
    "desig=[i.text for i in driver.find_elements_by_xpath('//span[@class=\"ellipsis clr\"]')]\n"
   ]
  },
  {
   "cell_type": "code",
   "execution_count": 280,
   "metadata": {},
   "outputs": [],
   "source": [
    "company=[i.text for i in driver.find_elements_by_xpath('//a[@class=\"ellipsis\"]')]"
   ]
  },
  {
   "cell_type": "code",
   "execution_count": 285,
   "metadata": {},
   "outputs": [],
   "source": [
    "com=[]\n",
    "for i in range(len(company)):\n",
    "    if i%2==1:\n",
    "        com.append(company[i])"
   ]
  },
  {
   "cell_type": "code",
   "execution_count": 274,
   "metadata": {},
   "outputs": [],
   "source": [
    "skill_h_f=[i.text for i in driver.find_elements_by_xpath('//div[@class=\"hireSec highlightable\"]')]"
   ]
  },
  {
   "cell_type": "code",
   "execution_count": 276,
   "metadata": {},
   "outputs": [],
   "source": [
    "location=[i.text for i in driver.find_elements_by_xpath('//small[@class=\"ellipsis\"]')]"
   ]
  },
  {
   "cell_type": "code",
   "execution_count": 289,
   "metadata": {},
   "outputs": [
    {
     "data": {
      "text/html": [
       "<div>\n",
       "<style scoped>\n",
       "    .dataframe tbody tr th:only-of-type {\n",
       "        vertical-align: middle;\n",
       "    }\n",
       "\n",
       "    .dataframe tbody tr th {\n",
       "        vertical-align: top;\n",
       "    }\n",
       "\n",
       "    .dataframe thead th {\n",
       "        text-align: right;\n",
       "    }\n",
       "</style>\n",
       "<table border=\"1\" class=\"dataframe\">\n",
       "  <thead>\n",
       "    <tr style=\"text-align: right;\">\n",
       "      <th></th>\n",
       "      <th>Name</th>\n",
       "      <th>Designation</th>\n",
       "      <th>Skills hire for</th>\n",
       "      <th>Company</th>\n",
       "    </tr>\n",
       "  </thead>\n",
       "  <tbody>\n",
       "    <tr>\n",
       "      <th>0</th>\n",
       "      <td>Aakash Harit</td>\n",
       "      <td>HR Manager</td>\n",
       "      <td>Classic ASP Developer, Internet Marketing Prof...</td>\n",
       "      <td>Data Science Network</td>\n",
       "    </tr>\n",
       "    <tr>\n",
       "      <th>1</th>\n",
       "      <td>shravan Kumar Gaddam</td>\n",
       "      <td>Company Recruiter</td>\n",
       "      <td>.Net, Java, Data Science, Linux Administration...</td>\n",
       "      <td>Shore Infotech India Pvt. Ltd</td>\n",
       "    </tr>\n",
       "    <tr>\n",
       "      <th>2</th>\n",
       "      <td>Talent Acquisition Executive</td>\n",
       "      <td>Recruitment Professional</td>\n",
       "      <td>Web Designing, html5, Angular.js, seo, hadoop,...</td>\n",
       "      <td>XenonStack</td>\n",
       "    </tr>\n",
       "    <tr>\n",
       "      <th>3</th>\n",
       "      <td>Anik Agrawal</td>\n",
       "      <td>Company Recruiter</td>\n",
       "      <td>Mean Stack, javascript, angularjs, mongodb, We...</td>\n",
       "      <td>Enerlytics Software Solutions Pvt Ltd</td>\n",
       "    </tr>\n",
       "    <tr>\n",
       "      <th>4</th>\n",
       "      <td>MARSIAN Technologies LLP</td>\n",
       "      <td>Company HR</td>\n",
       "      <td>Data Science, Artificial Intelligence, Machine...</td>\n",
       "      <td>MARSIAN Technologies LLP</td>\n",
       "    </tr>\n",
       "  </tbody>\n",
       "</table>\n",
       "</div>"
      ],
      "text/plain": [
       "                           Name               Designation  \\\n",
       "0                  Aakash Harit                HR Manager   \n",
       "1          shravan Kumar Gaddam         Company Recruiter   \n",
       "2  Talent Acquisition Executive  Recruitment Professional   \n",
       "3                  Anik Agrawal         Company Recruiter   \n",
       "4      MARSIAN Technologies LLP                Company HR   \n",
       "\n",
       "                                     Skills hire for  \\\n",
       "0  Classic ASP Developer, Internet Marketing Prof...   \n",
       "1  .Net, Java, Data Science, Linux Administration...   \n",
       "2  Web Designing, html5, Angular.js, seo, hadoop,...   \n",
       "3  Mean Stack, javascript, angularjs, mongodb, We...   \n",
       "4  Data Science, Artificial Intelligence, Machine...   \n",
       "\n",
       "                                 Company  \n",
       "0                   Data Science Network  \n",
       "1          Shore Infotech India Pvt. Ltd  \n",
       "2                             XenonStack  \n",
       "3  Enerlytics Software Solutions Pvt Ltd  \n",
       "4               MARSIAN Technologies LLP  "
      ]
     },
     "execution_count": 289,
     "metadata": {},
     "output_type": "execute_result"
    }
   ],
   "source": [
    "data_nauk_emp={\n",
    "    'Name':name,\n",
    "    'Designation':desig,\n",
    "    'Skills hire for':skill_h_f,\n",
    "    'Company':com}\n",
    "data=pd.DataFrame(data_nauk_emp)\n",
    "data.to_csv('Data_Nauk_Emp.csv')\n",
    "data.head()"
   ]
  },
  {
   "cell_type": "markdown",
   "metadata": {},
   "source": [
    "Q 8"
   ]
  },
  {
   "cell_type": "code",
   "execution_count": 291,
   "metadata": {},
   "outputs": [],
   "source": [
    "driver.get('https://www.theguardian.com/news/datablog/2012/aug/09/best-selling-books-all-time-fifty-shades-grey-compare/')"
   ]
  },
  {
   "cell_type": "code",
   "execution_count": 302,
   "metadata": {},
   "outputs": [],
   "source": [
    "all_=[i.text for i  in driver.find_elements_by_xpath('//td[@class=\"left\"]')]"
   ]
  },
  {
   "cell_type": "code",
   "execution_count": 307,
   "metadata": {},
   "outputs": [],
   "source": [
    "genr=[i.text for i  in driver.find_elements_by_xpath('//td[@class=\"last left\"]')]\n"
   ]
  },
  {
   "cell_type": "code",
   "execution_count": 309,
   "metadata": {},
   "outputs": [],
   "source": [
    "rank=[]\n",
    "title=[]\n",
    "author=[]\n",
    "v_sold=[]\n",
    "pub=[]"
   ]
  },
  {
   "cell_type": "code",
   "execution_count": 311,
   "metadata": {},
   "outputs": [],
   "source": [
    "for i in range(int(len(all_)/5)):\n",
    "    k=int(i*5)\n",
    "    rank.append(all_[k])\n",
    "    title.append(all_[k+1])\n",
    "    author.append(all_[k+2])\n",
    "    v_sold.append(all_[k+3])\n",
    "    pub.append(all_[k+4])"
   ]
  },
  {
   "cell_type": "code",
   "execution_count": 316,
   "metadata": {},
   "outputs": [
    {
     "data": {
      "text/html": [
       "<div>\n",
       "<style scoped>\n",
       "    .dataframe tbody tr th:only-of-type {\n",
       "        vertical-align: middle;\n",
       "    }\n",
       "\n",
       "    .dataframe tbody tr th {\n",
       "        vertical-align: top;\n",
       "    }\n",
       "\n",
       "    .dataframe thead th {\n",
       "        text-align: right;\n",
       "    }\n",
       "</style>\n",
       "<table border=\"1\" class=\"dataframe\">\n",
       "  <thead>\n",
       "    <tr style=\"text-align: right;\">\n",
       "      <th></th>\n",
       "      <th>Rank</th>\n",
       "      <th>Title</th>\n",
       "      <th>Author</th>\n",
       "      <th>Volumes Sold</th>\n",
       "      <th>Publication</th>\n",
       "      <th>Genre</th>\n",
       "    </tr>\n",
       "  </thead>\n",
       "  <tbody>\n",
       "    <tr>\n",
       "      <th>0</th>\n",
       "      <td>1</td>\n",
       "      <td>Da Vinci Code,The</td>\n",
       "      <td>Brown, Dan</td>\n",
       "      <td>5,094,805</td>\n",
       "      <td>Transworld</td>\n",
       "      <td>Crime, Thriller &amp; Adventure</td>\n",
       "    </tr>\n",
       "    <tr>\n",
       "      <th>1</th>\n",
       "      <td>2</td>\n",
       "      <td>Harry Potter and the Deathly Hallows</td>\n",
       "      <td>Rowling, J.K.</td>\n",
       "      <td>4,475,152</td>\n",
       "      <td>Bloomsbury</td>\n",
       "      <td>Children's Fiction</td>\n",
       "    </tr>\n",
       "    <tr>\n",
       "      <th>2</th>\n",
       "      <td>3</td>\n",
       "      <td>Harry Potter and the Philosopher's Stone</td>\n",
       "      <td>Rowling, J.K.</td>\n",
       "      <td>4,200,654</td>\n",
       "      <td>Bloomsbury</td>\n",
       "      <td>Children's Fiction</td>\n",
       "    </tr>\n",
       "    <tr>\n",
       "      <th>3</th>\n",
       "      <td>4</td>\n",
       "      <td>Harry Potter and the Order of the Phoenix</td>\n",
       "      <td>Rowling, J.K.</td>\n",
       "      <td>4,179,479</td>\n",
       "      <td>Bloomsbury</td>\n",
       "      <td>Children's Fiction</td>\n",
       "    </tr>\n",
       "    <tr>\n",
       "      <th>4</th>\n",
       "      <td>5</td>\n",
       "      <td>Fifty Shades of Grey</td>\n",
       "      <td>James, E. L.</td>\n",
       "      <td>3,758,936</td>\n",
       "      <td>Random House</td>\n",
       "      <td>Romance &amp; Sagas</td>\n",
       "    </tr>\n",
       "  </tbody>\n",
       "</table>\n",
       "</div>"
      ],
      "text/plain": [
       "  Rank                                      Title         Author Volumes Sold  \\\n",
       "0    1                          Da Vinci Code,The     Brown, Dan    5,094,805   \n",
       "1    2       Harry Potter and the Deathly Hallows  Rowling, J.K.    4,475,152   \n",
       "2    3   Harry Potter and the Philosopher's Stone  Rowling, J.K.    4,200,654   \n",
       "3    4  Harry Potter and the Order of the Phoenix  Rowling, J.K.    4,179,479   \n",
       "4    5                       Fifty Shades of Grey   James, E. L.    3,758,936   \n",
       "\n",
       "    Publication                        Genre  \n",
       "0    Transworld  Crime, Thriller & Adventure  \n",
       "1    Bloomsbury           Children's Fiction  \n",
       "2    Bloomsbury           Children's Fiction  \n",
       "3    Bloomsbury           Children's Fiction  \n",
       "4  Random House              Romance & Sagas  "
      ]
     },
     "execution_count": 316,
     "metadata": {},
     "output_type": "execute_result"
    }
   ],
   "source": [
    "data_book_best={\n",
    "    'Rank':rank,\n",
    "    'Title':title,\n",
    "    'Author':author,\n",
    "    'Volumes Sold':v_sold,\n",
    "    'Publication':pub,\n",
    "    'Genre':genr}\n",
    "data=pd.DataFrame(data_book_best)\n",
    "data.to_csv('Data_Book_Best.csv')\n",
    "data.head()"
   ]
  },
  {
   "cell_type": "markdown",
   "metadata": {},
   "source": [
    "Q 9"
   ]
  },
  {
   "cell_type": "code",
   "execution_count": 317,
   "metadata": {},
   "outputs": [],
   "source": [
    "driver.get('https://www.imdb.com/list/ls095964455/')"
   ]
  },
  {
   "cell_type": "code",
   "execution_count": 318,
   "metadata": {},
   "outputs": [],
   "source": [
    "name=[i.text for i in driver.find_elements_by_xpath('//h3[@class=\"lister-item-header\"]')]"
   ]
  },
  {
   "cell_type": "code",
   "execution_count": 331,
   "metadata": {},
   "outputs": [],
   "source": [
    "names_n_year=[i.split('. ')[1] for i in name]"
   ]
  },
  {
   "cell_type": "code",
   "execution_count": 334,
   "metadata": {},
   "outputs": [],
   "source": [
    "gnr=[i.text for i in driver.find_elements_by_xpath('//span[@class=\"genre\"]')]"
   ]
  },
  {
   "cell_type": "code",
   "execution_count": 337,
   "metadata": {},
   "outputs": [],
   "source": [
    "runtime=[i.text for i in driver.find_elements_by_xpath('//span[@class=\"runtime\"]')]"
   ]
  },
  {
   "cell_type": "code",
   "execution_count": 340,
   "metadata": {},
   "outputs": [
    {
     "data": {
      "text/plain": [
       "100"
      ]
     },
     "execution_count": 340,
     "metadata": {},
     "output_type": "execute_result"
    }
   ],
   "source": [
    "rating=[i.text for i in driver.find_elements_by_xpath('//span[@class=\"ipl-rating-star__rating\"]')]"
   ]
  },
  {
   "cell_type": "code",
   "execution_count": 342,
   "metadata": {},
   "outputs": [
    {
     "data": {
      "text/plain": [
       "2300"
      ]
     },
     "execution_count": 342,
     "metadata": {},
     "output_type": "execute_result"
    }
   ],
   "source": [
    "len(rating)"
   ]
  },
  {
   "cell_type": "code",
   "execution_count": 345,
   "metadata": {},
   "outputs": [],
   "source": [
    "rati=[]\n",
    "for i in range(len(rating)):\n",
    "    if(i%23==0):\n",
    "        rati.append(rating[i])"
   ]
  },
  {
   "cell_type": "code",
   "execution_count": 348,
   "metadata": {},
   "outputs": [],
   "source": [
    "no_of_votes=[i.text for i in driver.find_elements_by_xpath('//span[@name=\"nv\"]')]"
   ]
  },
  {
   "cell_type": "code",
   "execution_count": 350,
   "metadata": {},
   "outputs": [
    {
     "data": {
      "text/plain": [
       "100"
      ]
     },
     "execution_count": 350,
     "metadata": {},
     "output_type": "execute_result"
    }
   ],
   "source": [
    "len(no_of_votes)"
   ]
  },
  {
   "cell_type": "code",
   "execution_count": 351,
   "metadata": {},
   "outputs": [
    {
     "data": {
      "text/html": [
       "<div>\n",
       "<style scoped>\n",
       "    .dataframe tbody tr th:only-of-type {\n",
       "        vertical-align: middle;\n",
       "    }\n",
       "\n",
       "    .dataframe tbody tr th {\n",
       "        vertical-align: top;\n",
       "    }\n",
       "\n",
       "    .dataframe thead th {\n",
       "        text-align: right;\n",
       "    }\n",
       "</style>\n",
       "<table border=\"1\" class=\"dataframe\">\n",
       "  <thead>\n",
       "    <tr style=\"text-align: right;\">\n",
       "      <th></th>\n",
       "      <th>Title and Years span</th>\n",
       "      <th>Runtime</th>\n",
       "      <th>Rating</th>\n",
       "      <th>Number of votes</th>\n",
       "      <th>Genre</th>\n",
       "    </tr>\n",
       "  </thead>\n",
       "  <tbody>\n",
       "    <tr>\n",
       "      <th>0</th>\n",
       "      <td>Game of Thrones (2011–2019)</td>\n",
       "      <td>57 min</td>\n",
       "      <td>9.3</td>\n",
       "      <td>1,778,939</td>\n",
       "      <td>Action, Adventure, Drama</td>\n",
       "    </tr>\n",
       "    <tr>\n",
       "      <th>1</th>\n",
       "      <td>Stranger Things (2016– )</td>\n",
       "      <td>51 min</td>\n",
       "      <td>8.7</td>\n",
       "      <td>829,459</td>\n",
       "      <td>Drama, Fantasy, Horror</td>\n",
       "    </tr>\n",
       "    <tr>\n",
       "      <th>2</th>\n",
       "      <td>The Walking Dead (2010– )</td>\n",
       "      <td>44 min</td>\n",
       "      <td>8.2</td>\n",
       "      <td>857,085</td>\n",
       "      <td>Drama, Horror, Thriller</td>\n",
       "    </tr>\n",
       "    <tr>\n",
       "      <th>3</th>\n",
       "      <td>13 Reasons Why (2017–2020)</td>\n",
       "      <td>60 min</td>\n",
       "      <td>7.6</td>\n",
       "      <td>257,294</td>\n",
       "      <td>Drama, Mystery, Thriller</td>\n",
       "    </tr>\n",
       "    <tr>\n",
       "      <th>4</th>\n",
       "      <td>The 100 (2014–2020)</td>\n",
       "      <td>43 min</td>\n",
       "      <td>7.6</td>\n",
       "      <td>217,853</td>\n",
       "      <td>Drama, Mystery, Sci-Fi</td>\n",
       "    </tr>\n",
       "  </tbody>\n",
       "</table>\n",
       "</div>"
      ],
      "text/plain": [
       "          Title and Years span Runtime Rating Number of votes  \\\n",
       "0  Game of Thrones (2011–2019)  57 min    9.3       1,778,939   \n",
       "1     Stranger Things (2016– )  51 min    8.7         829,459   \n",
       "2    The Walking Dead (2010– )  44 min    8.2         857,085   \n",
       "3   13 Reasons Why (2017–2020)  60 min    7.6         257,294   \n",
       "4          The 100 (2014–2020)  43 min    7.6         217,853   \n",
       "\n",
       "                      Genre  \n",
       "0  Action, Adventure, Drama  \n",
       "1    Drama, Fantasy, Horror  \n",
       "2   Drama, Horror, Thriller  \n",
       "3  Drama, Mystery, Thriller  \n",
       "4    Drama, Mystery, Sci-Fi  "
      ]
     },
     "execution_count": 351,
     "metadata": {},
     "output_type": "execute_result"
    }
   ],
   "source": [
    "data_tv_best={\n",
    "    'Title and Years span':names_n_year,\n",
    "    'Runtime':runtime,\n",
    "    'Rating':rati,\n",
    "    'Number of votes':no_of_votes,\n",
    "    'Genre':gnr}\n",
    "data=pd.DataFrame(data_tv_best)\n",
    "data.to_csv('Data_TV_Best.csv')\n",
    "data.head()"
   ]
  },
  {
   "cell_type": "markdown",
   "metadata": {},
   "source": [
    "Q 10"
   ]
  },
  {
   "cell_type": "code",
   "execution_count": 352,
   "metadata": {},
   "outputs": [],
   "source": [
    "driver.get('https://archive.ics.uci.edu/')"
   ]
  },
  {
   "cell_type": "code",
   "execution_count": 355,
   "metadata": {},
   "outputs": [],
   "source": [
    "button=driver.find_element_by_xpath(\"//*[contains(text(),'View ALL Data Sets')]\")\n",
    "button.click()"
   ]
  },
  {
   "cell_type": "code",
   "execution_count": 357,
   "metadata": {},
   "outputs": [],
   "source": [
    "gi=[i.text for i in driver.find_elements_by_xpath('//p[@class=\"normal\"]')]"
   ]
  },
  {
   "cell_type": "code",
   "execution_count": 370,
   "metadata": {},
   "outputs": [
    {
     "data": {
      "text/plain": [
       "4095"
      ]
     },
     "execution_count": 370,
     "metadata": {},
     "output_type": "execute_result"
    }
   ],
   "source": [
    "len(gi[8:-2])"
   ]
  },
  {
   "cell_type": "code",
   "execution_count": 371,
   "metadata": {},
   "outputs": [],
   "source": [
    "name=[]\n",
    "da_type=[]\n",
    "task=[]\n",
    "attrb=[]\n",
    "n_inst=[]\n",
    "n_atbr=[]\n",
    "year=[]"
   ]
  },
  {
   "cell_type": "code",
   "execution_count": 372,
   "metadata": {},
   "outputs": [],
   "source": [
    "gii=gi[8:-2]"
   ]
  },
  {
   "cell_type": "code",
   "execution_count": 373,
   "metadata": {},
   "outputs": [],
   "source": [
    "for i in range(int(len(gii)/7)):\n",
    "    k=int(i*7)\n",
    "    name.append(gii[k])\n",
    "    da_type.append(gii[k+1])\n",
    "    task.append(gii[k+2])\n",
    "    attrb.append(gii[k+3])\n",
    "    n_inst.append(gii[k+4])\n",
    "    n_atbr.append(gii[k+5])\n",
    "    year.append(gii[k+6])"
   ]
  },
  {
   "cell_type": "code",
   "execution_count": 375,
   "metadata": {},
   "outputs": [
    {
     "data": {
      "text/html": [
       "<div>\n",
       "<style scoped>\n",
       "    .dataframe tbody tr th:only-of-type {\n",
       "        vertical-align: middle;\n",
       "    }\n",
       "\n",
       "    .dataframe tbody tr th {\n",
       "        vertical-align: top;\n",
       "    }\n",
       "\n",
       "    .dataframe thead th {\n",
       "        text-align: right;\n",
       "    }\n",
       "</style>\n",
       "<table border=\"1\" class=\"dataframe\">\n",
       "  <thead>\n",
       "    <tr style=\"text-align: right;\">\n",
       "      <th></th>\n",
       "      <th>Name</th>\n",
       "      <th>Data Type</th>\n",
       "      <th>Task Type</th>\n",
       "      <th>Attribute Types</th>\n",
       "      <th>Number of Instances</th>\n",
       "      <th>Number of Attributes</th>\n",
       "      <th>Year</th>\n",
       "    </tr>\n",
       "  </thead>\n",
       "  <tbody>\n",
       "    <tr>\n",
       "      <th>0</th>\n",
       "      <td>Abalone</td>\n",
       "      <td>Multivariate</td>\n",
       "      <td>Classification</td>\n",
       "      <td>Categorical, Integer, Real</td>\n",
       "      <td>4177</td>\n",
       "      <td>8</td>\n",
       "      <td>1995</td>\n",
       "    </tr>\n",
       "    <tr>\n",
       "      <th>1</th>\n",
       "      <td>Adult</td>\n",
       "      <td>Multivariate</td>\n",
       "      <td>Classification</td>\n",
       "      <td>Categorical, Integer</td>\n",
       "      <td>48842</td>\n",
       "      <td>14</td>\n",
       "      <td>1996</td>\n",
       "    </tr>\n",
       "    <tr>\n",
       "      <th>2</th>\n",
       "      <td>Annealing</td>\n",
       "      <td>Multivariate</td>\n",
       "      <td>Classification</td>\n",
       "      <td>Categorical, Integer, Real</td>\n",
       "      <td>798</td>\n",
       "      <td>38</td>\n",
       "      <td></td>\n",
       "    </tr>\n",
       "    <tr>\n",
       "      <th>3</th>\n",
       "      <td>Anonymous Microsoft Web Data</td>\n",
       "      <td></td>\n",
       "      <td>Recommender-Systems</td>\n",
       "      <td>Categorical</td>\n",
       "      <td>37711</td>\n",
       "      <td>294</td>\n",
       "      <td>1998</td>\n",
       "    </tr>\n",
       "    <tr>\n",
       "      <th>4</th>\n",
       "      <td>Arrhythmia</td>\n",
       "      <td>Multivariate</td>\n",
       "      <td>Classification</td>\n",
       "      <td>Categorical, Integer, Real</td>\n",
       "      <td>452</td>\n",
       "      <td>279</td>\n",
       "      <td>1998</td>\n",
       "    </tr>\n",
       "  </tbody>\n",
       "</table>\n",
       "</div>"
      ],
      "text/plain": [
       "                           Name      Data Type             Task Type  \\\n",
       "0                       Abalone  Multivariate        Classification    \n",
       "1                         Adult  Multivariate        Classification    \n",
       "2                     Annealing  Multivariate        Classification    \n",
       "3  Anonymous Microsoft Web Data                 Recommender-Systems    \n",
       "4                    Arrhythmia  Multivariate        Classification    \n",
       "\n",
       "               Attribute Types Number of Instances Number of Attributes   Year  \n",
       "0  Categorical, Integer, Real                4177                    8   1995   \n",
       "1        Categorical, Integer               48842                   14   1996   \n",
       "2  Categorical, Integer, Real                 798                   38          \n",
       "3                 Categorical               37711                  294   1998   \n",
       "4  Categorical, Integer, Real                 452                  279   1998   "
      ]
     },
     "execution_count": 375,
     "metadata": {},
     "output_type": "execute_result"
    }
   ],
   "source": [
    "data_data_sets={\n",
    "    'Name':name,\n",
    "    'Data Type':da_type,\n",
    "    'Task Type':task,\n",
    "    'Attribute Types':attrb,\n",
    "    'Number of Instances':n_inst,\n",
    "    'Number of Attributes':n_atbr,\n",
    "    'Year':year}\n",
    "data=pd.DataFrame(data_data_sets)\n",
    "data.to_csv('Data_Datasets.csv')\n",
    "data.head()"
   ]
  },
  {
   "cell_type": "code",
   "execution_count": null,
   "metadata": {},
   "outputs": [],
   "source": []
  }
 ],
 "metadata": {
  "kernelspec": {
   "display_name": "Python 3",
   "language": "python",
   "name": "python3"
  },
  "language_info": {
   "codemirror_mode": {
    "name": "ipython",
    "version": 3
   },
   "file_extension": ".py",
   "mimetype": "text/x-python",
   "name": "python",
   "nbconvert_exporter": "python",
   "pygments_lexer": "ipython3",
   "version": "3.7.6"
  }
 },
 "nbformat": 4,
 "nbformat_minor": 4
}
